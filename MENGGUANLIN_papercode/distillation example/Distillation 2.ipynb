{
 "cells": [
  {
   "cell_type": "code",
   "execution_count": 1,
   "id": "0623f1d2",
   "metadata": {},
   "outputs": [],
   "source": [
    "import torch\n",
    "import torch.nn.functional\n",
    "from torch import nn\n",
    "\n",
    "from labml import experiment, tracker\n",
    "from labml.configs import option\n",
    "from labml_helpers.train_valid import BatchIndex\n",
    "from labml_nn.distillation.large import LargeModel\n",
    "from labml_nn.distillation.small import SmallModel\n",
    "from labml_nn.experiments.cifar10 import CIFAR10Configs"
   ]
  },
  {
   "cell_type": "code",
   "execution_count": 2,
   "id": "b5be53cb",
   "metadata": {},
   "outputs": [],
   "source": [
    "class Configs(CIFAR10Configs):\n",
    "    model: SmallModel\n",
    "    large: LargeModel\n",
    "    kl_div_loss = nn.KLDivLoss(log_target=True)\n",
    "    loss_func = nn.CrossEntropyLoss()\n",
    "    temperature: float = 5.\n",
    "    soft_targets_weight: float = 100.\n",
    "    label_loss_weight: float = 0.5"
   ]
  },
  {
   "cell_type": "code",
   "execution_count": 3,
   "id": "4207acbd",
   "metadata": {},
   "outputs": [],
   "source": [
    "def step(self, batch: any, batch_idx: BatchIndex):\n",
    "    self.model.train(self.mode.is_train)\n",
    "    self.large.eval()\n",
    "    data, target = batch[0].to(self.device), batch[1].to(self.device)\n",
    "    if self.mode.is_train:\n",
    "        tracker.add_global_step(len(data))\n",
    "    with torch.no_grad():\n",
    "        large_logits = self.large(data)\n",
    "    output = self.model(data)\n",
    "    soft_targets = nn.functional.log_softmax(large_logits / self.temperature, dim=-1)\n",
    "    soft_prob = nn.functional.log_softmax(output / self.temperature, dim=-1)\n",
    "    soft_targets_loss = self.kl_div_loss(soft_prob, soft_targets)\n",
    "    label_loss = self.loss_func(output, target)\n",
    "    loss = self.soft_targets_weight * soft_targets_loss + self.label_loss_weight * label_loss\n",
    "    tracker.add({\"loss.kl_div.\": soft_targets_loss,\n",
    "                 \"loss.nll\": label_loss,\n",
    "                 \"loss.\": loss})\n",
    "    self.accuracy(output, target)\n",
    "    self.accuracy.track()\n",
    "    if self.mode.is_train:\n",
    "        loss.backward()\n",
    "        self.optimizer.step()\n",
    "        if batch_idx.is_last:\n",
    "            tracker.add('model', self.model)\n",
    "        self.optimizer.zero_grad()\n",
    "    tracker.save()\n",
    "    "
   ]
  },
  {
   "cell_type": "code",
   "execution_count": 6,
   "id": "0d33b74a",
   "metadata": {},
   "outputs": [],
   "source": [
    "def main(teacher,student, checkpoint: int):\n",
    "    large_model = teacher\n",
    "    experiment.create(name='distillation', comment='cifar10')\n",
    "    conf = Configs()\n",
    "    conf.large = large_model\n",
    "    experiment.configs(conf, {\n",
    "        'optimizer.optimizer': 'Adam',\n",
    "        'optimizer.learning_rate': 2.5e-4,\n",
    "        'model': '_small_student_model',\n",
    "    })\n",
    "    experiment.add_pytorch_models({'model': conf.model})\n",
    "    experiment.load(None, None)\n",
    "    with experiment.start():\n",
    "        conf.run()"
   ]
  },
  {
   "cell_type": "code",
   "execution_count": null,
   "id": "4a8f5366",
   "metadata": {},
   "outputs": [],
   "source": [
    "\n",
    "main(teacher, student, 1_000_000)\n",
    "\n",
    "\n",
    "\n",
    "\n"
   ]
  }
 ],
 "metadata": {
  "kernelspec": {
   "display_name": "Python 3 (ipykernel)",
   "language": "python",
   "name": "python3"
  },
  "language_info": {
   "codemirror_mode": {
    "name": "ipython",
    "version": 3
   },
   "file_extension": ".py",
   "mimetype": "text/x-python",
   "name": "python",
   "nbconvert_exporter": "python",
   "pygments_lexer": "ipython3",
   "version": "3.10.6"
  }
 },
 "nbformat": 4,
 "nbformat_minor": 5
}
